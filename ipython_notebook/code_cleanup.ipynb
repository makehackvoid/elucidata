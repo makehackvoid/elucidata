{
 "metadata": {
  "name": "code_cleanup"
 },
 "nbformat": 3,
 "nbformat_minor": 0,
 "worksheets": [
  {
   "cells": [
    {
     "cell_type": "code",
     "collapsed": false,
     "input": [
      "# not working yet\n",
      "import pandas\n",
      "import json\n",
      "import requests\n",
      "from sqlalchemy import *\n",
      "from sqlalchemy.orm import create_session\n",
      "from sqlalchemy.ext.declarative import declarative_base\n",
      "from sqlalchemy.exc import SQLAlchemyError\n",
      "import dateutil.parser\n",
      "import time\n",
      "\n",
      "#SQLAlchemy\n",
      "# change when making .py file\n",
      "\n",
      "user = 'root'\n",
      "password = ''\n",
      "server = 'localhost'\n",
      "port = '5432'\n",
      "database = 'elucidata'\n",
      "engine = create_engine('postgresql://' + user + ':' + password + '@' + server + ':' + port + '/' + database)\n",
      "session = create_session(bind=engine)\n",
      "\n",
      "session.begin()\n",
      "session.execute('DELETE FROM \"coordinate\";')\n",
      "session.execute('DELETE FROM \"datapoint\";')\n",
      "session.execute('DELETE FROM \"group\";')\n",
      "session.execute('DELETE FROM \"resource_map\";')\n",
      "session.execute('DELETE FROM \"resource_text\";')\n",
      "session.execute('DELETE FROM \"tag\";')\n",
      "session.execute('DELETE FROM \"word\";')\n",
      "session.execute('DELETE FROM \"dataset\";')\n",
      "\n",
      "session.commit();\n",
      "session.close();\n",
      "\n",
      "print \"[ARNI] Data has been terminated!\"\n"
     ],
     "language": "python",
     "metadata": {},
     "outputs": []
    },
    {
     "cell_type": "code",
     "collapsed": false,
     "input": [],
     "language": "python",
     "metadata": {},
     "outputs": []
    }
   ],
   "metadata": {}
  }
 ]
}