{
 "metadata": {
  "name": "try_parsing"
 },
 "nbformat": 3,
 "nbformat_minor": 0,
 "worksheets": [
  {
   "cells": [
    {
     "cell_type": "code",
     "collapsed": false,
     "input": [
      "import requests\n",
      "\n",
      "api_url = 'http://opendata.linkdigital.com.au/api/3/'\n",
      "    \n",
      "get_resources = 'http://opendata.linkdigital.com.au/api/3/action/current_package_list_with_resources'\n",
      "\n",
      "r = requests.get(get_resources)\n",
      "# print r.status_code\n",
      "# print r.headers['content-type']\n",
      "# print r.encoding\n",
      "# print r.text\n",
      "# print r.json()\n",
      "with open('data.json', 'w') as f:\n",
      "    f.write(r.content)\n",
      "    f.close()\n"
     ],
     "language": "python",
     "metadata": {},
     "outputs": [
      {
       "output_type": "stream",
       "stream": "stdout",
       "text": [
        "application/json;charset=utf-8\n",
        "utf-8\n"
       ]
      }
     ],
     "prompt_number": 1
    },
    {
     "cell_type": "code",
     "collapsed": false,
     "input": [
      "import pandas\n",
      "import json\n",
      "\n",
      "with open('data.json', 'r') as f:\n",
      "    raw_data = f.read()\n",
      "    f.close()\n",
      "    \n",
      "data = json.loads(raw_data)\n",
      "print data.keys()\n"
     ],
     "language": "python",
     "metadata": {},
     "outputs": [
      {
       "output_type": "stream",
       "stream": "stdout",
       "text": [
        "[u'help', u'success', u'result']\n"
       ]
      }
     ],
     "prompt_number": 2
    },
    {
     "cell_type": "code",
     "collapsed": false,
     "input": [
      "for record in data['result'][1:4]:\n",
      "    print record['id']"
     ],
     "language": "python",
     "metadata": {},
     "outputs": [
      {
       "output_type": "stream",
       "stream": "stdout",
       "text": [
        "75010df9-9cda-4a17-86d6-56e0e602119d\n",
        "2aa05b56-bebd-4db2-aa0f-6a7ff1cc6b7d\n",
        "78496106-9fb1-4828-90c1-86e9ab7afd10\n"
       ]
      }
     ],
     "prompt_number": 12
    },
    {
     "cell_type": "code",
     "collapsed": false,
     "input": [
      "df = pandas.DataFrame(data['result'])"
     ],
     "language": "python",
     "metadata": {},
     "outputs": [],
     "prompt_number": 9
    },
    {
     "cell_type": "code",
     "collapsed": false,
     "input": [],
     "language": "python",
     "metadata": {},
     "outputs": [
      {
       "html": [
        "<pre>\n",
        "&ltclass 'pandas.core.frame.DataFrame'&gt\n",
        "Int64Index: 1130 entries, 0 to 1129\n",
        "Data columns (total 32 columns):\n",
        "author                      1130  non-null values\n",
        "author_email                32  non-null values\n",
        "extras                      1130  non-null values\n",
        "groups                      1130  non-null values\n",
        "id                          1130  non-null values\n",
        "isopen                      1130  non-null values\n",
        "license_id                  1129  non-null values\n",
        "license_title               1129  non-null values\n",
        "license_url                 817  non-null values\n",
        "maintainer                  1130  non-null values\n",
        "maintainer_email            32  non-null values\n",
        "metadata_created            1130  non-null values\n",
        "metadata_modified           1130  non-null values\n",
        "name                        1130  non-null values\n",
        "notes                       1130  non-null values\n",
        "num_resources               1130  non-null values\n",
        "num_tags                    1130  non-null values\n",
        "organization                1126  non-null values\n",
        "owner_org                   1126  non-null values\n",
        "private                     1130  non-null values\n",
        "relationships_as_object     1130  non-null values\n",
        "relationships_as_subject    1130  non-null values\n",
        "resources                   1130  non-null values\n",
        "revision_id                 1130  non-null values\n",
        "revision_timestamp          1130  non-null values\n",
        "state                       1130  non-null values\n",
        "tags                        1130  non-null values\n",
        "title                       1130  non-null values\n",
        "tracking_summary            1130  non-null values\n",
        "type                        1130  non-null values\n",
        "url                         1109  non-null values\n",
        "version                     0  non-null values\n",
        "dtypes: bool(2), int64(2), object(28)\n",
        "</pre>"
       ],
       "output_type": "pyout",
       "prompt_number": 13,
       "text": [
        "<class 'pandas.core.frame.DataFrame'>\n",
        "Int64Index: 1130 entries, 0 to 1129\n",
        "Data columns (total 32 columns):\n",
        "author                      1130  non-null values\n",
        "author_email                32  non-null values\n",
        "extras                      1130  non-null values\n",
        "groups                      1130  non-null values\n",
        "id                          1130  non-null values\n",
        "isopen                      1130  non-null values\n",
        "license_id                  1129  non-null values\n",
        "license_title               1129  non-null values\n",
        "license_url                 817  non-null values\n",
        "maintainer                  1130  non-null values\n",
        "maintainer_email            32  non-null values\n",
        "metadata_created            1130  non-null values\n",
        "metadata_modified           1130  non-null values\n",
        "name                        1130  non-null values\n",
        "notes                       1130  non-null values\n",
        "num_resources               1130  non-null values\n",
        "num_tags                    1130  non-null values\n",
        "organization                1126  non-null values\n",
        "owner_org                   1126  non-null values\n",
        "private                     1130  non-null values\n",
        "relationships_as_object     1130  non-null values\n",
        "relationships_as_subject    1130  non-null values\n",
        "resources                   1130  non-null values\n",
        "revision_id                 1130  non-null values\n",
        "revision_timestamp          1130  non-null values\n",
        "state                       1130  non-null values\n",
        "tags                        1130  non-null values\n",
        "title                       1130  non-null values\n",
        "tracking_summary            1130  non-null values\n",
        "type                        1130  non-null values\n",
        "url                         1109  non-null values\n",
        "version                     0  non-null values\n",
        "dtypes: bool(2), int64(2), object(28)"
       ]
      }
     ],
     "prompt_number": 13
    },
    {
     "cell_type": "code",
     "collapsed": false,
     "input": [],
     "language": "python",
     "metadata": {},
     "outputs": []
    }
   ],
   "metadata": {}
  }
 ]
}