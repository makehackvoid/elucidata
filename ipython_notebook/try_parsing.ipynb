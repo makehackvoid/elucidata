{
 "metadata": {
  "name": "try_parsing"
 },
 "nbformat": 3,
 "nbformat_minor": 0,
 "worksheets": [
  {
   "cells": [
    {
     "cell_type": "code",
     "collapsed": false,
     "input": [
      "import requests\n",
      "\n",
      "api_url = 'http://opendata.linkdigital.com.au/api/3/'\n",
      "    \n",
      "get_resources = 'http://opendata.linkdigital.com.au/api/3/action/current_package_list_with_resources'\n",
      "\n",
      "r = requests.get(get_resources)\n",
      "# print r.status_code\n",
      "# print r.headers['content-type']\n",
      "# print r.encoding\n",
      "# print r.text\n",
      "# print r.json()\n",
      "with open('data.json', 'w') as f:\n",
      "    f.write(r.content)\n",
      "    f.close()\n"
     ],
     "language": "python",
     "metadata": {},
     "outputs": [
      {
       "output_type": "stream",
       "stream": "stdout",
       "text": [
        "application/json;charset=utf-8\n",
        "utf-8\n"
       ]
      }
     ],
     "prompt_number": 1
    },
    {
     "cell_type": "code",
     "collapsed": false,
     "input": [
      "import pandas\n",
      "import json\n",
      "\n",
      "with open('data.json', 'r') as f:\n",
      "    raw_data = f.read()\n",
      "    f.close()\n",
      "    \n",
      "data = json.loads(raw_data)\n",
      "print data.keys()\n"
     ],
     "language": "python",
     "metadata": {},
     "outputs": [
      {
       "output_type": "stream",
       "stream": "stdout",
       "text": [
        "[u'help', u'success', u'result']\n"
       ]
      }
     ],
     "prompt_number": 2
    },
    {
     "cell_type": "code",
     "collapsed": false,
     "input": [
      "for record in data['result'][1:4]:\n",
      "    print record['id']"
     ],
     "language": "python",
     "metadata": {},
     "outputs": [
      {
       "output_type": "stream",
       "stream": "stdout",
       "text": [
        "75010df9-9cda-4a17-86d6-56e0e602119d\n",
        "2aa05b56-bebd-4db2-aa0f-6a7ff1cc6b7d\n",
        "78496106-9fb1-4828-90c1-86e9ab7afd10\n"
       ]
      }
     ],
     "prompt_number": 3
    },
    {
     "cell_type": "code",
     "collapsed": false,
     "input": [
      "df = pandas.DataFrame(data['result'])"
     ],
     "language": "python",
     "metadata": {},
     "outputs": [],
     "prompt_number": 4
    },
    {
     "cell_type": "code",
     "collapsed": false,
     "input": [
      "df.ix[df.num_resources > 1]['resources'].head()"
     ],
     "language": "python",
     "metadata": {},
     "outputs": [
      {
       "output_type": "pyout",
       "prompt_number": 17,
       "text": [
        "2     [{u'resource_group_id': u'6f68a42a-4fff-4fe4-8...\n",
        "9     [{u'resource_group_id': u'44ebf79a-569d-4335-b...\n",
        "12    [{u'resource_group_id': u'fdb9de34-194b-4c55-b...\n",
        "14    [{u'resource_group_id': u'71f09202-80aa-4ac2-b...\n",
        "15    [{u'resource_group_id': u'f3739e1b-7426-46a2-a...\n",
        "Name: resources, dtype: object"
       ]
      }
     ],
     "prompt_number": 17
    },
    {
     "cell_type": "code",
     "collapsed": false,
     "input": [],
     "language": "python",
     "metadata": {},
     "outputs": []
    }
   ],
   "metadata": {}
  }
 ]
}