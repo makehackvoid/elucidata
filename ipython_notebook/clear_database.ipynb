{
 "metadata": {
  "name": "clear_database"
 },
 "nbformat": 3,
 "nbformat_minor": 0,
 "worksheets": [
  {
   "cells": [
    {
     "cell_type": "markdown",
     "metadata": {},
     "source": [
      "fixed by adding class definitions"
     ]
    },
    {
     "cell_type": "code",
     "collapsed": false,
     "input": [
      "import pandas\n",
      "import json\n",
      "import requests\n",
      "from sqlalchemy import *\n",
      "from sqlalchemy.orm import create_session\n",
      "from sqlalchemy.ext.declarative import declarative_base\n",
      "from sqlalchemy.exc import SQLAlchemyError\n",
      "import dateutil.parser\n",
      "import time\n",
      "\n",
      "# TODO: move database details into config file not held in repository\n",
      "user = 'postgres'\n",
      "password = ''\n",
      "server = 'localhost'\n",
      "port = '5432'\n",
      "database = 'mhv-govhack'\n",
      "databaseurl = 'postgresql://' + user + ':' + password + '@' + server + ':' + port + '/' + database\n",
      "engine = create_engine('postgresql://' + user + ':' + password + '@' + server + ':' + port + '/' + database)\n",
      "session = create_session(bind=engine)\n",
      "Base = declarative_base()\n",
      "metadata = MetaData(bind=engine)\n",
      "\n",
      "\n",
      "class DataSet(Base):\n",
      "    __table__ = Table('dataset', metadata, autoload=True)\n",
      "\n",
      "\n",
      "class Coordinate(Base):\n",
      "    __table__ = Table('coordinate', metadata, autoload=True)\n",
      "\n",
      "\n",
      "class DataPoint(Base):\n",
      "    __table__ = Table('datapoint', metadata, autoload=True)\n",
      "\n",
      "\n",
      "class ResourceMap(Base):\n",
      "    __table__ = Table('resource_map', metadata, autoload=True)\n",
      "\n",
      "\n",
      "class ResourceText(Base):\n",
      "    __table__ = Table('resource_text', metadata, autoload=True)\n",
      "\n",
      "\n",
      "class Word(Base):\n",
      "    __table__ = Table('word', metadata, autoload=True)\n",
      "\n",
      "\n",
      "class Tag(Base):\n",
      "    __table__ = Table('tag', metadata, autoload=True)\n",
      "\n",
      "\n",
      "class Group(Base):\n",
      "    __table__ = Table('group', metadata, autoload=True)\n",
      "\n",
      "session.begin()\n",
      "session.execute('DELETE FROM \"coordinate\";')\n",
      "session.execute('DELETE FROM \"datapoint\";')\n",
      "session.execute('DELETE FROM \"group\";')\n",
      "session.execute('DELETE FROM \"resource_map\";')\n",
      "session.execute('DELETE FROM \"word\";')\n",
      "session.execute('DELETE FROM \"resource_text\";')\n",
      "session.execute('DELETE FROM \"tag\";')\n",
      "session.execute('DELETE FROM \"dataset\";')\n",
      "\n",
      "session.commit();\n",
      "session.close();\n",
      "\n",
      "print \"[ARNI] Data has been terminated!\"\n"
     ],
     "language": "python",
     "metadata": {},
     "outputs": []
    }
   ],
   "metadata": {}
  }
 ]
}