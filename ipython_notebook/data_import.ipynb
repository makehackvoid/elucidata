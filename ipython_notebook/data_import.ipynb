{
 "metadata": {
  "name": "data_import"
 },
 "nbformat": 3,
 "nbformat_minor": 0,
 "worksheets": [
  {
   "cells": [
    {
     "cell_type": "heading",
     "level": 1,
     "metadata": {},
     "source": [
      "Import the data to postgresql"
     ]
    },
    {
     "cell_type": "code",
     "collapsed": false,
     "input": [
      "import pandas\n",
      "import json\n",
      "import requests\n",
      "\n",
      "api_url = 'http://opendata.linkdigital.com.au/api/3/'\n",
      "    \n",
      "get_resources = 'http://opendata.linkdigital.com.au/api/3/action/current_package_list_with_resources'\n",
      "\n",
      "live = False\n",
      "\n",
      "if live:\n",
      "    r = requests.get(get_resources)\n",
      "    with open('data.json', 'w') as f:\n",
      "        f.write(r.content)\n",
      "        f.close()\n",
      "    raw_data = r.content\n",
      "else:\n",
      "    with open('data.json', 'r') as f:\n",
      "        raw_data = f.read()\n",
      "        f.close()\n",
      "    \n",
      "    data = json.loads(raw_data)\n",
      "\n",
      "print data.keys()\n",
      "\n",
      "df = pandas.DataFrame(data['result'])\n",
      "\n",
      "#for name in df.columns:\n",
      "#    print '\\t\\'' + name + '\\','\n",
      "    \n",
      "df = df[[\n",
      "    # 'author',\n",
      "\t# 'author_email',\n",
      "\t# 'extras',\n",
      "\t'groups',\n",
      "\t'id',\n",
      "\t# 'isopen',\n",
      "\t# 'license_id',\n",
      "\t# 'license_title',\n",
      "\t# 'license_url',\n",
      "\t# 'maintainer',\n",
      "\t# 'maintainer_email',\n",
      "\t# 'metadata_created',\n",
      "\t# 'metadata_modified',\n",
      "\t'name',\n",
      "\t# 'notes',\n",
      "\t'num_resources',\n",
      "\t'num_tags',\n",
      "\t'organization',\n",
      "\t# 'owner_org',\n",
      "\t# 'private',\n",
      "\t# 'relationships_as_object',\n",
      "\t# 'relationships_as_subject',\n",
      "\t'resources',\n",
      "\t'revision_id',\n",
      "\t'revision_timestamp',\n",
      "\t# 'state',\n",
      "\t'tags',\n",
      "\t'title',\n",
      "\t# 'tracking_summary',\n",
      "\t'type',\n",
      "\t# 'url',\n",
      "\t# 'version'\n",
      "    ]]\n",
      "\n"
     ],
     "language": "python",
     "metadata": {},
     "outputs": []
    }
   ],
   "metadata": {}
  }
 ]
}