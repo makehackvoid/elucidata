{
 "metadata": {
  "name": "data_import"
 },
 "nbformat": 3,
 "nbformat_minor": 0,
 "worksheets": [
  {
   "cells": [
    {
     "cell_type": "heading",
     "level": 1,
     "metadata": {},
     "source": [
      "Import the data to postgresql"
     ]
    },
    {
     "cell_type": "code",
     "collapsed": false,
     "input": [
      "import pandas\n",
      "import json\n",
      "import requests\n",
      "\n",
      "api_url = 'http://opendata.linkdigital.com.au/api/3/'\n",
      "    \n",
      "get_resources = 'http://opendata.linkdigital.com.au/api/3/action/current_package_list_with_resources'\n",
      "\n",
      "live = False\n",
      "\n",
      "if live:\n",
      "    r = requests.get(get_resources)\n",
      "    with open('data.json', 'w') as f:\n",
      "        f.write(r.content)\n",
      "        f.close()\n",
      "    raw_data = r.content\n",
      "else:\n",
      "    with open('data.json', 'r') as f:\n",
      "        raw_data = f.read()\n",
      "        f.close()\n",
      "    \n",
      "    data = json.loads(raw_data)\n",
      "\n",
      "# print data.keys()\n",
      "\n",
      "data_sets = pandas.DataFrame(data['result'])\n",
      "\n",
      "#for name in df.columns:\n",
      "#    print '\\t\\'' + name + '\\','\n",
      "    \n",
      "data_sets = data_sets[[\n",
      "    # 'author',\n",
      "\t# 'author_email',\n",
      "\t# 'extras',\n",
      "\t'groups',\n",
      "\t'id',\n",
      "\t# 'isopen',\n",
      "\t# 'license_id',\n",
      "\t# 'license_title',\n",
      "\t# 'license_url',\n",
      "\t# 'maintainer',\n",
      "\t# 'maintainer_email',\n",
      "\t# 'metadata_created',\n",
      "\t# 'metadata_modified',\n",
      "\t'name',\n",
      "\t# 'notes',\n",
      "\t'num_resources',\n",
      "\t'num_tags',\n",
      "\t'organization',\n",
      "\t# 'owner_org',\n",
      "\t# 'private',\n",
      "\t# 'relationships_as_object',\n",
      "\t# 'relationships_as_subject',\n",
      "\t'resources',\n",
      "\t'revision_id',\n",
      "\t'revision_timestamp',\n",
      "\t# 'state',\n",
      "\t'tags',\n",
      "\t'title',\n",
      "\t# 'tracking_summary',\n",
      "\t'type',\n",
      "\t# 'url',\n",
      "\t# 'version'\n",
      "    ]]\n",
      "\n",
      "#SQLAlchemy\n",
      "# change when making .py file\n",
      "%run load_schema.py\n",
      "from sqlalchemy.orm import sessionmaker\n",
      "Session = sessionmaker(bind=engine)\n",
      "session = Session()\n",
      "\n",
      "for key, data_set in data_sets.iterrows():\n",
      "    print key\n",
      "    print data_set['resources']\n",
      "    \n",
      "    break"
     ],
     "language": "python",
     "metadata": {},
     "outputs": [
      {
       "output_type": "stream",
       "stream": "stdout",
       "text": [
        "0\n",
        "[{u'resource_group_id': u'ce3a9f7d-58d0-44bd-837e-03fe0a3cea7f', u'cache_last_updated': None, u'revision_timestamp': u'2013-05-31T08:51:48.981206', u'webstore_last_updated': None, u'id': u'd85f8d81-b011-4329-9db3-7d3b09761a14', u'size': u'55009998', u'state': u'active', u'hash': u'', u'description': u'', u'format': u'ZIP', u'tracking_summary': {u'total': 0, u'recent': 0}, u'mimetype_inner': None, u'mimetype': u'application/zip', u'cache_url': None, u'name': u'2010-11 datasets.zip', u'created': u'2013-05-31T08:51:46.102508', u'url': u'http://opendata.linkdigital.com.au/storage/f/2013-05-31T08%3A49%3A51.005Z/2010-11-datasets.zip', u'webstore_url': None, u'last_modified': u'2013-05-31T08:51:48.920701', u'position': 0, u'revision_id': u'7cf43cd3-0826-46cc-ae9d-49689d31ec92', u'resource_type': u'file.upload'}]\n"
       ]
      }
     ],
     "prompt_number": 16
    },
    {
     "cell_type": "code",
     "collapsed": false,
     "input": [],
     "language": "python",
     "metadata": {},
     "outputs": []
    }
   ],
   "metadata": {}
  }
 ]
}