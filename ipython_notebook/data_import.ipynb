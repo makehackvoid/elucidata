{
 "metadata": {
  "name": "data_import"
 },
 "nbformat": 3,
 "nbformat_minor": 0,
 "worksheets": [
  {
   "cells": [
    {
     "cell_type": "code",
     "collapsed": false,
     "input": [
      "import pandas\n",
      "import json\n",
      "import requests\n",
      "from sqlalchemy import *\n",
      "from sqlalchemy.orm import create_session\n",
      "from sqlalchemy.ext.declarative import declarative_base\n",
      "from sqlalchemy.exc import SQLAlchemyError\n",
      "import dateutil.parser\n",
      "import time\n",
      "\n",
      "api_url = 'http://opendata.linkdigital.com.au/api/3/'\n",
      "    \n",
      "get_resources = 'http://opendata.linkdigital.com.au/api/3/action/current_package_list_with_resources'\n",
      "\n",
      "live = False\n",
      "\n",
      "if live:\n",
      "    r = requests.get(get_resources)\n",
      "    with open('data.json', 'w') as f:\n",
      "        f.write(r.content)\n",
      "        f.close()\n",
      "    raw_data = r.content\n",
      "else:\n",
      "    with open('data.json', 'r') as f:\n",
      "        raw_data = f.read()\n",
      "        f.close()\n",
      "    \n",
      "    data = json.loads(raw_data)\n",
      "\n",
      "# print data.keys()\n",
      "\n",
      "data_sets = pandas.DataFrame(data['result'])\n",
      "\n",
      "#for name in df.columns:\n",
      "#    print '\\t\\'' + name + '\\','\n",
      "    \n",
      "data_sets = data_sets[[\n",
      "    # 'author',\n",
      "\t# 'author_email',\n",
      "\t# 'extras',\n",
      "\t'groups',\n",
      "\t'id',\n",
      "\t# 'isopen',\n",
      "\t# 'license_id',\n",
      "\t# 'license_title',\n",
      "\t# 'license_url',\n",
      "\t# 'maintainer',\n",
      "\t# 'maintainer_email',\n",
      "\t# 'metadata_created',\n",
      "\t# 'metadata_modified',\n",
      "\t'name',\n",
      "\t# 'notes',\n",
      "\t'num_resources',\n",
      "\t'num_tags',\n",
      "\t'organization',\n",
      "\t# 'owner_org',\n",
      "\t# 'private',\n",
      "\t# 'relationships_as_object',\n",
      "\t# 'relationships_as_subject',\n",
      "\t'resources',\n",
      "\t'revision_id',\n",
      "\t'revision_timestamp',\n",
      "\t# 'state',\n",
      "\t'tags',\n",
      "\t'title',\n",
      "\t# 'tracking_summary',\n",
      "\t'type',\n",
      "\t# 'url',\n",
      "\t# 'version'\n",
      "    ]]\n",
      "\n",
      "#SQLAlchemy\n",
      "# change when making .py file\n",
      "\n",
      "user = 'postgres'\n",
      "password = ''\n",
      "server = 'localhost'\n",
      "port = '5432'\n",
      "database = 'mhv-govhack'\n",
      "engine = create_engine('postgresql://' + user + ':' + password + '@' + server + ':' + port + '/' + database)\n",
      "session = create_session(bind=engine)\n",
      "Base = declarative_base()\n",
      "metadata = MetaData(bind=engine)\n",
      "\n",
      "class DataSet(Base):\n",
      "    __table__ = Table('dataset', metadata, autoload=True)\n",
      "\n",
      "class Coordinate(Base):\n",
      "    __table__ = Table('coordinate', metadata, autoload=True)\n",
      "\n",
      "class DataPoint(Base):\n",
      "    __table__ = Table('datapoint', metadata, autoload=True)\n",
      "    \n",
      "class ResourceMap(Base):\n",
      "    __table__ = Table('resource_map', metadata, autoload=True)\n",
      "    \n",
      "class ResourceText(Base):\n",
      "    __table__ = Table('resource_text', metadata, autoload=True)\n",
      "    \n",
      "class Word(Base):\n",
      "    __table__ = Table('word', metadata, autoload=True)\n",
      "    \n",
      "class Tag(Base):\n",
      "    __table__ = Table('tag', metadata, autoload=True)\n",
      "    \n",
      "class Group(Base):\n",
      "    __table__ = Table('group', metadata, autoload=True)\n",
      "\n",
      "def usable_format(resources):\n",
      "    # All formats in data_sets = set([u'XML', u'xlsx', u'ZIP', u'plain', u'KML', u'PDF', u'CSV', u'XLS', u'shp'])\n",
      "    # just start with these, add more if we have time\n",
      "    # TODO: if there are no valid formats in the data_set, we don't want to create the dataset record\n",
      "    for resource in resources:\n",
      "        if resource['format'].lower() in ['xml','csv','kml', 'shp']:\n",
      "            return True\n",
      "        else:\n",
      "            return False\n",
      "\n",
      "def text_format(resource):\n",
      "    if resource['format'].lower() in ['xml','csv']:\n",
      "        return True\n",
      "    else:\n",
      "        return False\n",
      "        \n",
      "for key, data_set in data_sets.iterrows():\n",
      "    if usable_format(data_set['resources']):\n",
      "        session.begin()\n",
      "        \n",
      "        # fill the dataset table\n",
      "        dataset = DataSet()  \n",
      "        dataset.id = data_set['id']\n",
      "        dataset.api_url = api_url\n",
      "        dataset.name = data_set['title']\n",
      "        dataset.url_name = data_set['name']\n",
      "        dataset.provider = data_set['organization']['title']\n",
      "        dataset.revision_date = time.mktime(dateutil.parser.parse(data_set['revision_timestamp']).timetuple())\n",
      "        dataset.revision_id = data_set['revision_id']\n",
      "        session.add(dataset)\n",
      "        # TODO: add field to database\n",
      "        # dataset.description = data_set['notes'] up to the second new line\n",
      "\n",
      "        try:\n",
      "            session.commit()\n",
      "        except SQLAlchemyError: # already exists (hopefully)\n",
      "            # TODO: compare existing DataSet record's revision date && id to see if we need to replace it\n",
      "            # code not working\n",
      "            # q = session.query(DataSet).filter(DataSet.revision_id == dataset.revision_id)\n",
      "            # if session.query(q.exists()):\n",
      "            #    print 'it exists!', data_set['revision_id']\n",
      "            #    continue\n",
      "            # else:\n",
      "            #    session.delete(dataset)\n",
      "            #    session.add(dataset)\n",
      "            #    session.commit()\n",
      "            session.close()\n",
      "            break # continue\n",
      "        \n",
      "        session.begin()\n",
      "        # fill the group table\n",
      "        for a_group in data_set['groups']:\n",
      "            group = Group()\n",
      "            # TODO: not sure if we can set the dataset_id outside the loop?\n",
      "            group.dataset_id = data_set['id']\n",
      "            group.group = a_group['title']\n",
      "            session.add(group)\n",
      "            \n",
      "        # fill the tag table\n",
      "        for a_tag in data_set['tags']:\n",
      "            tag = Tag()\n",
      "            # TODO: not sure if we can set the dataset_id outside the loop?\n",
      "            tag.dataset_id = data_set['id']\n",
      "            tag.tag = a_tag\n",
      "            session.add(tag)\n",
      "        \n",
      "        # fill the resource_text or resource_map table \n",
      "        for resource in data_set['resources']:\n",
      "            if text_format(resource):\n",
      "                resource_text = ResourceText()\n",
      "                resource_text.id = resource['id']\n",
      "                resource_text.dataset_id = data_set['id']\n",
      "                resource_text.name = resource['name']\n",
      "                resource_text.resource_url = resource['url']\n",
      "                resource_text.type = resource['format']\n",
      "                session.add(resource_text)\n",
      "                if resource['format'].lower() == 'csv':\n",
      "                    df = pandas.DataFrame.from_csv(resource['url'])\n",
      "                    resource_text.column_headers = ', '.join([str(x) for x in df.columns.tolist()])\n",
      "                    resource_text.row_headers = ', '.join([str(x) for x in df.index.tolist()])\n",
      "                    # TODO: parsed wordcount\n",
      "                elif resource['format'].lower() == 'xml':\n",
      "                    # TODO\n",
      "                    None\n",
      "                else:\n",
      "                    print 'unexpected text format:', resource['format']\n",
      "                # TODO: have to get the actual resources here from it's url and then parse it based on type\n",
      "                # TODO: store the parsed data in the other data tables \n",
      "            else:\n",
      "                resource_map = ResourceMap()\n",
      "                resource_map.id = resource['id']\n",
      "                resource_map.dataset_id = data_set['id']\n",
      "                resource_map.name = resource['name']\n",
      "                resource_map.resource_url = resource['url']\n",
      "                resource_map.type = resource['format']\n",
      "                session.add(resource_map)\n",
      "                # TODO: have to get the actual resources here from it's url and then parse it based on type\n",
      "                # TODO: store the parsed data in the other data tables \n",
      "            \n",
      "        session.commit()\n",
      "\n",
      "        break\n"
     ],
     "language": "python",
     "metadata": {},
     "outputs": [],
     "prompt_number": 26
    },
    {
     "cell_type": "heading",
     "level": 1,
     "metadata": {},
     "source": [
      "Import the data to postgresql"
     ]
    },
    {
     "cell_type": "markdown",
     "metadata": {},
     "source": [
      "check the unique types of resources in data_sets ( resources 'format' field)"
     ]
    },
    {
     "cell_type": "code",
     "collapsed": false,
     "input": [
      "output = set()\n",
      "for resource in data_sets['resources']:\n",
      "    for item in resource:\n",
      "        if item['format'] not in output:\n",
      "            output.add(item['format'])\n",
      "print output"
     ],
     "language": "python",
     "metadata": {},
     "outputs": [
      {
       "output_type": "stream",
       "stream": "stdout",
       "text": [
        "set([u'XML', u'xlsx', u'ZIP', u'plain', u'KML', u'PDF', u'CSV', u'XLS', u'shp'])\n"
       ]
      }
     ],
     "prompt_number": 14
    },
    {
     "cell_type": "markdown",
     "metadata": {},
     "source": [
      "Check the usable_format function"
     ]
    },
    {
     "cell_type": "code",
     "collapsed": false,
     "input": [
      "def usable_format(resources):\n",
      "    # All formats in data_sets = set([u'XML', u'xlsx', u'ZIP', u'plain', u'KML', u'PDF', u'CSV', u'XLS', u'shp'])\n",
      "    # just start with these, add more if we have time\n",
      "    # TODO: if there are no valid formats in the data_set, we probably don't want to create the dataset record at all?\n",
      "    for resource in resources:\n",
      "        if resource['format'].lower() in ['xml','csv','kml','csv', 'shp']:\n",
      "            return True\n",
      "        else:\n",
      "            return False\n",
      "\n",
      "i = 0\n",
      "for key, data_set in data_sets.iterrows():\n",
      "    if usable_format(data_set['resources']):\n",
      "        i += 1\n",
      "    else:\n",
      "        None\n",
      "        # print key, 'no usable resource'\n",
      "        \n",
      "print 'number of usable resources', i"
     ],
     "language": "python",
     "metadata": {},
     "outputs": [
      {
       "output_type": "stream",
       "stream": "stdout",
       "text": [
        "number of usable resources 623\n"
       ]
      }
     ],
     "prompt_number": 11
    },
    {
     "cell_type": "code",
     "collapsed": false,
     "input": [
      "data_set"
     ],
     "language": "python",
     "metadata": {},
     "outputs": [
      {
       "output_type": "pyout",
       "prompt_number": 94,
       "text": [
        "groups                [{u'capacity': u'public', u'description': u'A ...\n",
        "id                                 78496106-9fb1-4828-90c1-86e9ab7afd10\n",
        "name                               city-of-gold-coast-workforce-profile\n",
        "num_resources                                                         1\n",
        "num_tags                                                              0\n",
        "organization          {u'description': u'', u'created': u'2013-05-31...\n",
        "resources             [{u'resource_group_id': u'4cfda3f5-667f-445f-8...\n",
        "revision_id                        737e04a9-e6c6-4149-80b2-7f6f9b471df4\n",
        "revision_timestamp                           2013-05-31T00:38:07.568652\n",
        "tags                                                                 []\n",
        "title                            City of Gold Coast \u2013 Workforce Profile\n",
        "type                                                            dataset\n",
        "Name: 3, dtype: object"
       ]
      }
     ],
     "prompt_number": 94
    },
    {
     "cell_type": "code",
     "collapsed": false,
     "input": [
      "resource['url']"
     ],
     "language": "python",
     "metadata": {},
     "outputs": [
      {
       "output_type": "pyout",
       "prompt_number": 54,
       "text": [
        "u'http://opendata.linkdigital.com.au/storage/f/2013-05-31T00%3A37%3A49.326Z/workforce-profile.csv'"
       ]
      }
     ],
     "prompt_number": 54
    },
    {
     "cell_type": "code",
     "collapsed": false,
     "input": [
      "df = pandas.DataFrame.from_csv(resource['url'])\n",
      "columns_header = df.columns.tolist()\n",
      "row_names = df.index.tolist()\n",
      "# print row_names\n",
      "print ', '.join([str(x) for x in row_names])\n",
      "print ', '.join([str(x) for x in columns_header])\n"
     ],
     "language": "python",
     "metadata": {},
     "outputs": [
      {
       "output_type": "stream",
       "stream": "stdout",
       "text": [
        "Age,  < 25, 25 - 34, 35 - 44, 45 - 54, 55 - 64, 65 +, nan\n",
        "Full-Time, Unnamed: 2, Part-Time, Unnamed: 4, Temporary , Unnamed: 6, Total\n"
       ]
      }
     ],
     "prompt_number": 96
    },
    {
     "cell_type": "code",
     "collapsed": false,
     "input": [
      "', '.join([str(x) for x in df.columns.tolist()])"
     ],
     "language": "python",
     "metadata": {},
     "outputs": [
      {
       "output_type": "pyout",
       "prompt_number": 99,
       "text": [
        "'Full-Time, Unnamed: 2, Part-Time, Unnamed: 4, Temporary , Unnamed: 6, Total'"
       ]
      }
     ],
     "prompt_number": 99
    },
    {
     "cell_type": "code",
     "collapsed": false,
     "input": [
      "', '.join([str(x) for x in df.index.tolist()])"
     ],
     "language": "python",
     "metadata": {},
     "outputs": [
      {
       "output_type": "pyout",
       "prompt_number": 100,
       "text": [
        "'Age,  < 25, 25 - 34, 35 - 44, 45 - 54, 55 - 64, 65 +, nan'"
       ]
      }
     ],
     "prompt_number": 100
    },
    {
     "cell_type": "code",
     "collapsed": false,
     "input": [
      "print data_set['title']"
     ],
     "language": "python",
     "metadata": {},
     "outputs": [
      {
       "output_type": "stream",
       "stream": "stdout",
       "text": [
        "City of Gold Coast \u2013 Workforce Profile\n"
       ]
      }
     ],
     "prompt_number": 9
    },
    {
     "cell_type": "code",
     "collapsed": false,
     "input": [
      "data_set"
     ],
     "language": "python",
     "metadata": {},
     "outputs": [
      {
       "output_type": "pyout",
       "prompt_number": 11,
       "text": [
        "groups                [{u'capacity': u'public', u'description': u'A ...\n",
        "id                                 78496106-9fb1-4828-90c1-86e9ab7afd10\n",
        "name                               city-of-gold-coast-workforce-profile\n",
        "num_resources                                                         1\n",
        "num_tags                                                              0\n",
        "organization          {u'description': u'', u'created': u'2013-05-31...\n",
        "resources             [{u'resource_group_id': u'4cfda3f5-667f-445f-8...\n",
        "revision_id                        737e04a9-e6c6-4149-80b2-7f6f9b471df4\n",
        "revision_timestamp                           2013-05-31T00:38:07.568652\n",
        "tags                                                                 []\n",
        "title                            City of Gold Coast \u2013 Workforce Profile\n",
        "type                                                            dataset\n",
        "Name: 3, dtype: object"
       ]
      }
     ],
     "prompt_number": 11
    },
    {
     "cell_type": "code",
     "collapsed": false,
     "input": [],
     "language": "python",
     "metadata": {},
     "outputs": []
    }
   ],
   "metadata": {}
  }
 ]
}